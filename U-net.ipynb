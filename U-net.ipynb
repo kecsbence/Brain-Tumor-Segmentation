{
 "cells": [
  {
   "cell_type": "code",
   "execution_count": 1,
   "metadata": {},
   "outputs": [
    {
     "name": "stderr",
     "output_type": "stream",
     "text": [
      "Using TensorFlow backend.\n"
     ]
    }
   ],
   "source": [
    "import skimage.io as io\n",
    "import glob\n",
    "import random as r\n",
    "import numpy as np\n",
    "import matplotlib.pyplot as plt\n",
    "import SimpleITK\n",
    "\n",
    "import tensorflow as tf\n",
    "import skimage.color as color\n",
    "import math\n",
    "from keras.models import Model\n",
    "from keras.layers import Dense, Dropout, Activation, Flatten\n",
    "from keras.layers import concatenate, Conv2D, MaxPooling2D, Conv2DTranspose\n",
    "from keras.layers import Input, UpSampling2D,BatchNormalization\n",
    "from keras.callbacks import ModelCheckpoint\n",
    "from keras.optimizers import Adam\n",
    "from keras.preprocessing.image import ImageDataGenerator\n",
    "from keras import backend as K"
   ]
  },
  {
   "cell_type": "code",
   "execution_count": 2,
   "metadata": {},
   "outputs": [],
   "source": [
    "img_size = 240\n",
    "K.set_image_dim_ordering(\"th\")\n",
    "#K.backend.image_dim_ordering(\"th\")\n",
    "#K.image_data_format \n",
    "\n",
    "img_size = 240      #original img size is 240*240\n",
    "smooth = 0.005 \n",
    "\n",
    "sharp = False       # sharpen filter\n",
    "LR = 1e-4"
   ]
  },
  {
   "cell_type": "code",
   "execution_count": 9,
   "metadata": {},
   "outputs": [],
   "source": [
    "def t2_flair_load (img_path, img_type, img_num, img_from):\n",
    "#bartab@inf.u-szeged.hu\n",
    "    files = glob.glob(img_path + img_type, recursive=True)\n",
    "    files = files[img_from:img_num]\n",
    "    img_t1 = []\n",
    "    img_t1c = []\n",
    "    img_t2 = []\n",
    "    img_flair = []\n",
    "    img_full=np.zeros((img_num,2,155,240,240))\n",
    "    \n",
    "    n=0\n",
    "    for file in files:\n",
    "        print('Processing---', file)\n",
    "        img = io.imread(file, plugin='simpleitk')\n",
    "        print(img.shape)\n",
    "        \n",
    "        if img.std() != 0 :\n",
    "            img = (img - img.mean()) / img.std()  # normalization => zero mean   !!!care for the std=0 problem\n",
    "        else: return print('std = 0 !')\n",
    "        img = img.astype('float32')\n",
    "        \n",
    "        for k in range(0, 3) :\n",
    "\n",
    "            img_t1 = img[0,:,:,:]\n",
    "            img_t1c = img[1,:,:,:]\n",
    "            img_t2 = img[2,:,:,:]\n",
    "            img_flair = img[3,:,:,:]\n",
    "            \n",
    "            img_t2 = img_t2.reshape((1,)+img_t2.shape)\n",
    "            img_flair = img_flair.reshape((1,)+img_flair.shape)\n",
    "            img_t2 = img_t2.reshape((1,)+img_t2.shape)\n",
    "            img_flair = img_flair.reshape((1,)+img_flair.shape)\n",
    "            \n",
    "        img_full[n,0,:,:,:] = img_t2[0,0,:,:,:]\n",
    "        img_full[n,1,:,:,:] = img_flair[0,0,:,:,:]\n",
    "        n= n+1\n",
    "        print('eljutott az iteráció végére')\n",
    "    return np.array(img_full)\n",
    "\n",
    "def label_loader(img_path, img_type, img_num, img_from):\n",
    "    files = glob.glob(img_path + img_type, recursive=True)\n",
    "    files = files[img_from:img_num]\n",
    "    label_full=np.zeros((img_num,155,240,240))\n",
    "    \n",
    "    n=0\n",
    "    for file in files:\n",
    "        print('Processing---', file)\n",
    "        img = io.imread(file, plugin='simpleitk')\n",
    "        #print(img.shape)\n",
    "        img[img != 0] = 1\n",
    "        img = img.reshape((1,)+img.shape)\n",
    "    \n",
    "        label_full[n,:,:,:] = img[0,:,:,:]\n",
    "        n = n+1\n",
    "        \n",
    "    return np.array(label_full)"
   ]
  },
  {
   "cell_type": "code",
   "execution_count": null,
   "metadata": {
    "scrolled": true
   },
   "outputs": [
    {
     "name": "stdout",
     "output_type": "stream",
     "text": [
      "Processing--- D:/Diplomamunka/adatok/imagesTr\\BRATS_001.nii.gz\n",
      "(4, 155, 240, 240)\n",
      "eljutott az iteráció végére\n",
      "Processing--- D:/Diplomamunka/adatok/imagesTr\\BRATS_002.nii.gz\n",
      "(4, 155, 240, 240)\n",
      "eljutott az iteráció végére\n",
      "Processing--- D:/Diplomamunka/adatok/imagesTr\\BRATS_003.nii.gz\n",
      "(4, 155, 240, 240)\n",
      "eljutott az iteráció végére\n",
      "Processing--- D:/Diplomamunka/adatok/imagesTr\\BRATS_004.nii.gz\n",
      "(4, 155, 240, 240)\n",
      "eljutott az iteráció végére\n",
      "Processing--- D:/Diplomamunka/adatok/imagesTr\\BRATS_005.nii.gz\n",
      "(4, 155, 240, 240)\n",
      "eljutott az iteráció végére\n",
      "Processing--- D:/Diplomamunka/adatok/imagesTr\\BRATS_006.nii.gz\n",
      "(4, 155, 240, 240)\n",
      "eljutott az iteráció végére\n",
      "Processing--- D:/Diplomamunka/adatok/imagesTr\\BRATS_007.nii.gz\n",
      "(4, 155, 240, 240)\n",
      "eljutott az iteráció végére\n",
      "Processing--- D:/Diplomamunka/adatok/imagesTr\\BRATS_008.nii.gz\n",
      "(4, 155, 240, 240)\n",
      "eljutott az iteráció végére\n",
      "Processing--- D:/Diplomamunka/adatok/imagesTr\\BRATS_009.nii.gz\n",
      "(4, 155, 240, 240)\n",
      "eljutott az iteráció végére\n",
      "Processing--- D:/Diplomamunka/adatok/imagesTr\\BRATS_010.nii.gz\n",
      "(4, 155, 240, 240)\n",
      "eljutott az iteráció végére\n",
      "Processing--- D:/Diplomamunka/adatok/imagesTr\\BRATS_011.nii.gz\n"
     ]
    }
   ],
   "source": [
    "#call the loaders\n",
    "img_num = 16\n",
    "img_from=0\n",
    "img_full = t2_flair_load('D:/Diplomamunka/adatok/imagesTr/', '**/*.nii.gz', img_num, img_from)\n",
    "print(img_full.shape)\n",
    "\n",
    "label_full = label_loader('D:/Diplomamunka/adatok/labelsTr/', '**/*.nii.gz', img_num, img_from)\n",
    "print(label_full.shape)"
   ]
  },
  {
   "cell_type": "code",
   "execution_count": 10,
   "metadata": {},
   "outputs": [
    {
     "name": "stdout",
     "output_type": "stream",
     "text": [
      "Processing--- D:/Diplomamunka/adatok/imagesTr\\BRATS_009.nii.gz\n",
      "(4, 155, 240, 240)\n",
      "eljutott az iteráció végére\n",
      "Processing--- D:/Diplomamunka/adatok/imagesTr\\BRATS_010.nii.gz\n",
      "(4, 155, 240, 240)\n",
      "eljutott az iteráció végére\n",
      "Processing--- D:/Diplomamunka/adatok/imagesTr\\BRATS_011.nii.gz\n",
      "(4, 155, 240, 240)\n",
      "eljutott az iteráció végére\n",
      "Processing--- D:/Diplomamunka/adatok/imagesTr\\BRATS_012.nii.gz\n",
      "(4, 155, 240, 240)\n",
      "eljutott az iteráció végére\n",
      "Processing--- D:/Diplomamunka/adatok/imagesTr\\BRATS_013.nii.gz\n",
      "(4, 155, 240, 240)\n",
      "eljutott az iteráció végére\n",
      "Processing--- D:/Diplomamunka/adatok/imagesTr\\BRATS_014.nii.gz\n",
      "(4, 155, 240, 240)\n",
      "eljutott az iteráció végére\n",
      "Processing--- D:/Diplomamunka/adatok/imagesTr\\BRATS_015.nii.gz\n",
      "(4, 155, 240, 240)\n",
      "eljutott az iteráció végére\n",
      "Processing--- D:/Diplomamunka/adatok/imagesTr\\BRATS_016.nii.gz\n",
      "(4, 155, 240, 240)\n",
      "eljutott az iteráció végére\n",
      "(16, 2, 155, 240, 240)\n",
      "Processing--- D:/Diplomamunka/adatok/labelsTr\\BRATS_009.nii.gz\n",
      "Processing--- D:/Diplomamunka/adatok/labelsTr\\BRATS_010.nii.gz\n",
      "Processing--- D:/Diplomamunka/adatok/labelsTr\\BRATS_011.nii.gz\n",
      "Processing--- D:/Diplomamunka/adatok/labelsTr\\BRATS_012.nii.gz\n",
      "Processing--- D:/Diplomamunka/adatok/labelsTr\\BRATS_013.nii.gz\n",
      "Processing--- D:/Diplomamunka/adatok/labelsTr\\BRATS_014.nii.gz\n",
      "Processing--- D:/Diplomamunka/adatok/labelsTr\\BRATS_015.nii.gz\n",
      "Processing--- D:/Diplomamunka/adatok/labelsTr\\BRATS_016.nii.gz\n",
      "(16, 155, 240, 240)\n"
     ]
    }
   ],
   "source": [
    "i=2\n",
    "\n",
    "img_from = (i-1)*8\n",
    "img_num = i*8\n",
    "img_full = t2_flair_load('D:/Diplomamunka/adatok/imagesTr/', '**/*.nii.gz', img_num, img_from)\n",
    "print(img_full.shape)\n",
    "\n",
    "label_full = label_loader('D:/Diplomamunka/adatok/labelsTr/', '**/*.nii.gz', img_num, img_from)\n",
    "print(label_full.shape)"
   ]
  },
  {
   "cell_type": "code",
   "execution_count": 8,
   "metadata": {},
   "outputs": [
    {
     "data": {
      "image/png": "[encoded data removed]",
      "text/plain": [
       "<Figure size 1080x720 with 3 Axes>"
      ]
     },
     "metadata": {
      "needs_background": "light"
     },
     "output_type": "display_data"
    }
   ],
   "source": [
    "#print to show the arrays \n",
    "img_example=5\n",
    "plt.figure(figsize=(15,10))\n",
    "\n",
    "plt.subplot(141)\n",
    "plt.title('data')\n",
    "plt.axis('off')\n",
    "plt.imshow(img_full[img_example,0,95, :, :],cmap='gray')\n",
    "\n",
    "\n",
    "plt.subplot(142)\n",
    "plt.title('data')\n",
    "plt.axis('off')\n",
    "plt.imshow(img_full[img_example,1,95, :, :],cmap='gray')\n",
    "\n",
    "plt.subplot(143)\n",
    "plt.title('groundtruth')\n",
    "plt.axis('off')\n",
    "plt.imshow(label_full[img_example, 95, :, :],cmap='gray')\n",
    "\n",
    "plt.show()"
   ]
  },
  {
   "cell_type": "code",
   "execution_count": 6,
   "metadata": {},
   "outputs": [],
   "source": [
    "#U-net for full tumor segmentation\n",
    "def dice_coef(y_true, y_pred):\n",
    "    y_true_f = K.flatten(y_true)\n",
    "    y_pred_f = K.flatten(y_pred)\n",
    "    intersection = K.sum(y_true_f * y_pred_f)\n",
    "    return (2. * intersection + smooth) / (K.sum(y_true_f) + K.sum(y_pred_f) + smooth)\n",
    "\n",
    "\n",
    "def dice_coef_loss(y_true, y_pred):\n",
    "    return 1-dice_coef(y_true, y_pred)\n",
    "    \n",
    "def unet_model():\n",
    "    inputs = Input((2, img_size, img_size))\n",
    "    conv1 = Conv2D(64, (3, 3), activation='relu', padding='same') (inputs)\n",
    "    batch1 = BatchNormalization(axis=1)(conv1)\n",
    "    conv1 = Conv2D(64, (3, 3), activation='relu', padding='same') (batch1)\n",
    "    batch1 = BatchNormalization(axis=1)(conv1)\n",
    "    pool1 = MaxPooling2D((2, 2)) (batch1)\n",
    "    \n",
    "    conv2 = Conv2D(128, (3, 3), activation='relu', padding='same') (pool1)\n",
    "    batch2 = BatchNormalization(axis=1)(conv2)\n",
    "    conv2 = Conv2D(128, (3, 3), activation='relu', padding='same') (batch2)\n",
    "    batch2 = BatchNormalization(axis=1)(conv2)\n",
    "    pool2 = MaxPooling2D((2, 2)) (batch2)\n",
    "    \n",
    "    conv3 = Conv2D(256, (3, 3), activation='relu', padding='same') (pool2)\n",
    "    batch3 = BatchNormalization(axis=1)(conv3)\n",
    "    conv3 = Conv2D(256, (3, 3), activation='relu', padding='same') (batch3)\n",
    "    batch3 = BatchNormalization(axis=1)(conv3)\n",
    "    pool3 = MaxPooling2D((2, 2)) (batch3)\n",
    "    \n",
    "    conv4 = Conv2D(512, (3, 3), activation='relu', padding='same') (pool3)\n",
    "    batch4 = BatchNormalization(axis=1)(conv4)\n",
    "    conv4 = Conv2D(512, (3, 3), activation='relu', padding='same') (batch4)\n",
    "    batch4 = BatchNormalization(axis=1)(conv4)\n",
    "    pool4 = MaxPooling2D(pool_size=(2, 2)) (batch4)\n",
    "    \n",
    "    conv5 = Conv2D(1024, (3, 3), activation='relu', padding='same') (pool4)\n",
    "    batch5 = BatchNormalization(axis=1)(conv5)\n",
    "    conv5 = Conv2D(1024, (3, 3), activation='relu', padding='same') (batch5)\n",
    "    batch5 = BatchNormalization(axis=1)(conv5)\n",
    "    \n",
    "    up6 = Conv2DTranspose(512, (2, 2), strides=(2, 2), padding='same') (batch5)\n",
    "    up6 = concatenate([up6, conv4], axis=1)\n",
    "    conv6 = Conv2D(512, (3, 3), activation='relu', padding='same') (up6)\n",
    "    batch6 = BatchNormalization(axis=1)(conv6)\n",
    "    conv6 = Conv2D(512, (3, 3), activation='relu', padding='same') (batch6)\n",
    "    batch6 = BatchNormalization(axis=1)(conv6)\n",
    "    \n",
    "    up7 = Conv2DTranspose(256, (2, 2), strides=(2, 2), padding='same') (batch6)\n",
    "    up7 = concatenate([up7, conv3], axis=1)\n",
    "    conv7 = Conv2D(256, (3, 3), activation='relu', padding='same') (up7)\n",
    "    batch7 = BatchNormalization(axis=1)(conv7)\n",
    "    conv7 = Conv2D(256, (3, 3), activation='relu', padding='same') (batch7)\n",
    "    batch7 = BatchNormalization(axis=1)(conv7)\n",
    "    \n",
    "    up8 = Conv2DTranspose(128, (2, 2), strides=(2, 2), padding='same') (batch7)\n",
    "    up8 = concatenate([up8, conv2], axis=1)\n",
    "    conv8 = Conv2D(128, (3, 3), activation='relu', padding='same') (up8)\n",
    "    batch8 = BatchNormalization(axis=1)(conv8)\n",
    "    conv8 = Conv2D(128, (3, 3), activation='relu', padding='same') (batch8)\n",
    "    batch8 = BatchNormalization(axis=1)(conv8)\n",
    "    \n",
    "    up9 = Conv2DTranspose(64, (2, 2), strides=(2, 2), padding='same') (batch8)\n",
    "    up9 = concatenate([up9, conv1], axis=1)\n",
    "    conv9 = Conv2D(64, (3, 3), activation='relu', padding='same') (up9)\n",
    "    batch9 = BatchNormalization(axis=1)(conv9)\n",
    "    conv9 = Conv2D(64, (3, 3), activation='relu', padding='same') (batch9)\n",
    "    batch9 = BatchNormalization(axis=1)(conv9)\n",
    "\n",
    "    conv10 = Conv2D(1, (1, 1), activation='sigmoid')(batch9)\n",
    "\n",
    "    model = Model(inputs=[inputs], outputs=[conv10])\n",
    "\n",
    "    model.compile(optimizer=Adam(lr=LR), loss=dice_coef_loss, metrics=[dice_coef])\n",
    "\n",
    "    return model"
   ]
  },
  {
   "cell_type": "code",
   "execution_count": 7,
   "metadata": {},
   "outputs": [
    {
     "name": "stdout",
     "output_type": "stream",
     "text": [
      "WARNING:tensorflow:From C:\\Users\\Mediso\\Anaconda3\\lib\\site-packages\\tensorflow\\python\\framework\\op_def_library.py:263: colocate_with (from tensorflow.python.framework.ops) is deprecated and will be removed in a future version.\n",
      "Instructions for updating:\n",
      "Colocations handled automatically by placer.\n",
      "WARNING:tensorflow:From C:\\Users\\Mediso\\Anaconda3\\lib\\site-packages\\tensorflow\\python\\ops\\math_ops.py:3066: to_int32 (from tensorflow.python.ops.math_ops) is deprecated and will be removed in a future version.\n",
      "Instructions for updating:\n",
      "Use tf.cast instead.\n",
      "Epoch 1/4\n",
      "16/16 [==============================] - 45s 3s/step - loss: 0.7876 - acc: 0.0118\n",
      "Epoch 2/4\n",
      "16/16 [==============================] - 40s 2s/step - loss: 0.6989 - acc: 0.2977\n",
      "Epoch 3/4\n",
      "16/16 [==============================] - 40s 3s/step - loss: 0.6415 - acc: 0.2624\n",
      "Epoch 4/4\n",
      "16/16 [==============================] - 41s 3s/step - loss: 0.6332 - acc: 0.1596\n"
     ]
    },
    {
     "data": {
      "text/plain": [
       "<keras.callbacks.History at 0x290cd09b848>"
      ]
     },
     "execution_count": 7,
     "metadata": {},
     "output_type": "execute_result"
    }
   ],
   "source": [
    "#giving weights for the net\n",
    "model = unet_model()\n",
    "#model.load_weights('D:/kBence/weights/weights-full-best.h5')\n",
    "model.compile(loss=dice_coef_loss, optimizer='adam', metrics=['accuracy'])\n",
    "#input, output, epp, batch\n",
    "\n",
    "\n",
    "train_data=np.zeros((img_num,2,240,240))\n",
    "train_data[:,:,:,:] = img_full[:,:,90,:,:]\n",
    "\n",
    "label_train=np.zeros((img_num,240,240))\n",
    "label_train[:,:,:]=label_full[:,90,:,:]\n",
    "\n",
    "batch_size=2\n",
    "num_epochs=4\n",
    "\n",
    "model.fit(x=train_data, y=label_train, batch_size=batch_size, verbose=1, epochs=num_epochs)"
   ]
  },
  {
   "cell_type": "code",
   "execution_count": null,
   "metadata": {},
   "outputs": [],
   "source": [
    "#train with iterative batch\n",
    "\n",
    "model = unet_model()\n",
    "model.compile(loss=dice_coef_loss, optimizer='adam', metrics=['accuracy'])\n",
    "\n",
    "for i in range(1, 60):\n",
    "    img_from = (i-1)*8\n",
    "    img_num = i*8\n",
    "    img_full = t2_flair_load('D:/kBence/BRATS16_17/imagesTr/', '**/*.nii.gz', img_num, img_from)\n",
    "    print(img_full.shape)\n",
    "\n",
    "    label_full = label_loader('D:/kBence/BRATS16_17/labelsTr/', '**/*.nii.gz', img_num, img_from)\n",
    "    print(label_full.shape)\n",
    "    \n",
    "    train_data=np.zeros((img_num,2,240,240))\n",
    "    train_data[:,:,:,:] = img_full[:,:,90,:,:]\n",
    "\n",
    "    label_train=np.zeros((img_num,240,240))\n",
    "    label_train[:,:,:]=label_full[:,90,:,:]\n",
    "\n",
    "    batch_size=2\n",
    "    num_epochs=4\n",
    "    model.fit(x=train_data, y=label_train, batch_size=batch_size, verbose=1, epochs=num_epochs)\n",
    "    "
   ]
  },
  {
   "cell_type": "code",
   "execution_count": null,
   "metadata": {},
   "outputs": [],
   "source": [
    "#predict for batch data\n",
    "\n",
    "x = np.zeros((1,2,240,240),np.float32)\n",
    "\n",
    "x[:,:,:,:]= img_full[10,:,95,:,:]\n",
    "\n",
    "pred_full = model.predict(x)\n",
    "\n",
    "plt.figure(figsize=(15,10))\n",
    "\n",
    "plt.subplot(141)\n",
    "plt.title('data')\n",
    "plt.axis('off')\n",
    "plt.imshow(img_full[10,0,95, :, :],cmap='gray')\n",
    "    \n",
    "\n",
    "plt.subplot(142)\n",
    "plt.title('prediction(full)')\n",
    "plt.axis('off')\n",
    "plt.imshow(pred_full[0, 0, :, :],cmap='gray')\n",
    "\n",
    "plt.subplot(143)\n",
    "plt.title('groundtruth')\n",
    "plt.axis('off')\n",
    "plt.imshow(label_full[10, 95, :, :],cmap='gray')\n",
    "\n",
    "plt.show()"
   ]
  },
  {
   "cell_type": "code",
   "execution_count": 25,
   "metadata": {},
   "outputs": [
    {
     "data": {
      "image/png": "[encoded data removed]",
      "text/plain": [
       "<Figure size 1080x720 with 1 Axes>"
      ]
     },
     "metadata": {
      "needs_background": "light"
     },
     "output_type": "display_data"
    }
   ],
   "source": [
    "plt.figure(figsize=(15,10))\n",
    "\n",
    "#input (5, 2, 155, 240, 240)\n",
    "plt.subplot(141)\n",
    "plt.title('data')\n",
    "plt.axis('off')\n",
    "plt.imshow(img_full[2,0,90, :, :],cmap='gray')\n",
    "plt.show()"
   ]
  },
  {
   "cell_type": "code",
   "execution_count": 9,
   "metadata": {},
   "outputs": [
    {
     "name": "stdout",
     "output_type": "stream",
     "text": [
      "Name: tensorflow\n",
      "Version: 1.13.1\n",
      "Summary: TensorFlow is an open source machine learning framework for everyone.\n",
      "Home-page: https://www.tensorflow.org/\n",
      "Author: Google Inc.\n",
      "Author-email: opensource@google.com\n",
      "License: Apache 2.0\n",
      "Location: c:\\users\\mediso\\anaconda3\\lib\\site-packages\n",
      "Requires: keras-applications, absl-py, six, keras-preprocessing, tensorflow-estimator, protobuf, termcolor, grpcio, wheel, tensorboard, astor, numpy, gast\n",
      "Required-by: \n",
      "Note: you may need to restart the kernel to use updated packages.\n"
     ]
    }
   ],
   "source": [
    "pip show tensorflow"
   ]
  },
  {
   "cell_type": "code",
   "execution_count": 10,
   "metadata": {},
   "outputs": [
    {
     "name": "stdout",
     "output_type": "stream",
     "text": [
      "Name: Keras\n",
      "Version: 2.2.4\n",
      "Summary: Deep Learning for humans\n",
      "Home-page: https://github.com/keras-team/keras\n",
      "Author: Francois Chollet\n",
      "Author-email: francois.chollet@gmail.com\n",
      "License: MIT\n",
      "Location: c:\\users\\mediso\\anaconda3\\lib\\site-packages\n",
      "Requires: pyyaml, h5py, keras-preprocessing, scipy, numpy, keras-applications, six\n",
      "Required-by: \n",
      "Note: you may need to restart the kernel to use updated packages.\n"
     ]
    }
   ],
   "source": [
    "pip show keras"
   ]
  },
  {
   "cell_type": "code",
   "execution_count": null,
   "metadata": {},
   "outputs": [],
   "source": []
  }
 ],
 "metadata": {
  "kernelspec": {
   "display_name": "Python 3",
   "language": "python",
   "name": "python3"
  },
  "language_info": {
   "codemirror_mode": {
    "name": "ipython",
    "version": 3
   },
   "file_extension": ".py",
   "mimetype": "text/x-python",
   "name": "python",
   "nbconvert_exporter": "python",
   "pygments_lexer": "ipython3",
   "version": "3.7.3"
  }
 },
 "nbformat": 4,
 "nbformat_minor": 2
}
